{
  "cells": [
    {
      "cell_type": "markdown",
      "id": "reverse-navigator",
      "metadata": {
        "tags": [],
        "id": "reverse-navigator"
      },
      "source": [
        "# Python Introduction\n",
        "\n",
        "这个笔记本会带领大家学习Python环境安装和最基本的Python语法，从零开始！\n",
        "\n",
        "你会学到\n",
        "* Python环境安装\n",
        "* 数据结构\n",
        "* 逻辑判断，循环，异常\n",
        "* 输入输出\n",
        "* 函数和类\n",
        "* 基础算法\n",
        "\n",
        "参考：\n",
        "https://learnxinyminutes.com/docs/python/"
      ]
    },
    {
      "cell_type": "markdown",
      "id": "b7b372d3-63d4-41a5-bf21-1cd7c05753df",
      "metadata": {
        "tags": [],
        "id": "b7b372d3-63d4-41a5-bf21-1cd7c05753df"
      },
      "source": [
        "# Python环境安装\n",
        "\n",
        "[推荐安装Anaconda](https://blog.csdn.net/ITLearnHall/article/details/81708148?utm_medium=distribute.pc_relevant.none-task-blog-2%7Edefault%7EBlogCommendFromMachineLearnPai2%7Edefault-2.control&depth_1-utm_source=distribute.pc_relevant.none-task-blog-2%7Edefault%7EBlogCommendFromMachineLearnPai2%7Edefault-2.control)\n",
        "\n",
        "PS: 这个教程里面写要装Python 2.7， 已经过时了，我们装网站默认的3.9或者任何3.7+的版本都可以\n",
        "\n",
        "[安装Jupyter Notebook](https://blog.csdn.net/gui694278452/article/details/81710184?ops_request_misc=%257B%2522request%255Fid%2522%253A%2522162441833516780366567545%2522%252C%2522scm%2522%253A%252220140713.130102334..%2522%257D&request_id=162441833516780366567545&biz_id=0&utm_medium=distribute.pc_search_result.none-task-blog-2~all~sobaiduend~default-1-81710184.first_rank_v2_pc_rank_v29&utm_term=jupyter+notebook%E5%AE%89%E8%A3%85%E6%95%99%E7%A8%8B&spm=1018.2226.3001.4187)\n",
        "\n",
        "打开Windows的cmd或者Mac的Terminal，`cd`到你想要的文件夹，直接输入`jupyter notebook`便有网页弹出"
      ]
    },
    {
      "cell_type": "markdown",
      "id": "innovative-raise",
      "metadata": {
        "id": "innovative-raise"
      },
      "source": [
        "新建一个的Notebook 文件，你可以点击上方的 Untitled 来给自己的文件重命名。可以先试一下最基础的1+1和print，在每个框里面写好代码，点击上面的“▶ Run”按钮即可运行。"
      ]
    },
    {
      "cell_type": "code",
      "execution_count": null,
      "id": "ca319312",
      "metadata": {
        "scrolled": true,
        "id": "ca319312",
        "outputId": "f3e0bb58-35aa-4680-eeed-4c34137008ff"
      },
      "outputs": [
        {
          "data": {
            "text/plain": [
              "2"
            ]
          },
          "execution_count": 1,
          "metadata": {},
          "output_type": "execute_result"
        }
      ],
      "source": [
        "1+1"
      ]
    },
    {
      "cell_type": "code",
      "execution_count": null,
      "id": "324a2509",
      "metadata": {
        "id": "324a2509",
        "outputId": "c15ba22e-0fc0-4f49-f592-8048cc5d9f84"
      },
      "outputs": [
        {
          "name": "stdout",
          "output_type": "stream",
          "text": [
            "Hello TechX!\n"
          ]
        }
      ],
      "source": [
        "'Hello TechX!'"
      ]
    },
    {
      "cell_type": "markdown",
      "id": "8522368d",
      "metadata": {
        "id": "8522368d"
      },
      "source": [
        "在Jupyter Notebook里面也可以运行终端命令，只要在一行代码前打上`!`就可以。"
      ]
    },
    {
      "cell_type": "code",
      "execution_count": null,
      "id": "b24f5ad0",
      "metadata": {
        "colab": {
          "base_uri": "https://localhost:8080/"
        },
        "id": "b24f5ad0",
        "outputId": "abb6a974-1e17-4a08-c361-4b96b33d1d81"
      },
      "outputs": [
        {
          "output_type": "stream",
          "name": "stdout",
          "text": [
            "Hello TechX\n"
          ]
        }
      ],
      "source": [
        "!echo \"Hello TechX\""
      ]
    },
    {
      "cell_type": "markdown",
      "id": "considerable-convertible",
      "metadata": {
        "id": "considerable-convertible"
      },
      "source": [
        "如果要让 Python 输出内容到屏幕上，怎么做呢？Python 有一个 `print()` 命令来专门解决这个问题。点击下面的代码框，并点击页面上面的 “▶ Run” 或者按下 <kbd>Shift</kbd> + <kbd>Enter</kbd> 来运行吧！"
      ]
    },
    {
      "cell_type": "code",
      "execution_count": null,
      "id": "loved-nicaragua",
      "metadata": {
        "id": "loved-nicaragua",
        "outputId": "b522b80e-4cc6-4a91-b037-c3655da0cb05"
      },
      "outputs": [
        {
          "name": "stdout",
          "output_type": "stream",
          "text": [
            "Hello TechX!\n",
            "2\n",
            "Goodbye!\n"
          ]
        }
      ],
      "source": [
        "print('Hello TechX!')\n",
        "print(1 + 1)\n",
        "print('Goodbye!')"
      ]
    },
    {
      "cell_type": "markdown",
      "id": "auburn-laugh",
      "metadata": {
        "id": "auburn-laugh"
      },
      "source": [
        "`print()` 可以解决几乎所有的输出。如果要打印多个输出，用逗号分隔就行："
      ]
    },
    {
      "cell_type": "code",
      "execution_count": null,
      "id": "amino-advisory",
      "metadata": {
        "id": "amino-advisory",
        "outputId": "069e76f7-4baa-4b35-ad6f-f0caef80f427"
      },
      "outputs": [
        {
          "name": "stdout",
          "output_type": "stream",
          "text": [
            "TechX 2022 We choose to go to the moon.\n"
          ]
        }
      ],
      "source": [
        "print('TechX', 2022, 'We choose to go to the moon.')"
      ]
    },
    {
      "cell_type": "markdown",
      "id": "3cd9cb53-8cea-482c-89bd-aea373fcffa7",
      "metadata": {
        "id": "3cd9cb53-8cea-482c-89bd-aea373fcffa7"
      },
      "source": [
        "## 数据类型\n",
        "\n",
        "Python 里的变量可以存储很多种类型的数据，为了方便以后的探索，我们先来学习一下基本的数据类型吧！\n",
        "\n",
        "### 数字\n",
        "数字就是类似 1, 2, 或者 -0.5 的值。"
      ]
    },
    {
      "cell_type": "code",
      "execution_count": null,
      "id": "fa6314c2-a7f3-4716-a754-3e82ce0140a3",
      "metadata": {
        "id": "fa6314c2-a7f3-4716-a754-3e82ce0140a3",
        "outputId": "b225378c-70df-4134-ed79-f724a3122651"
      },
      "outputs": [
        {
          "data": {
            "text/plain": [
              "3"
            ]
          },
          "execution_count": 6,
          "metadata": {},
          "output_type": "execute_result"
        }
      ],
      "source": [
        "3 # = 3"
      ]
    },
    {
      "cell_type": "markdown",
      "id": "2176eec0-117f-4c89-8d67-29e2c17f55d9",
      "metadata": {
        "id": "2176eec0-117f-4c89-8d67-29e2c17f55d9"
      },
      "source": [
        "上面的代码里面，每一行 `#` 后面的都是“注释”，是给你和我看的解释，Python 自己不会读注释。"
      ]
    },
    {
      "cell_type": "markdown",
      "id": "5bfb11f5-b57e-4720-ad9a-1062664ba9bc",
      "metadata": {
        "id": "5bfb11f5-b57e-4720-ad9a-1062664ba9bc"
      },
      "source": [
        "### 数学运算符号\n",
        "数字之间可以做简单的运算，常用的都在下面："
      ]
    },
    {
      "cell_type": "code",
      "execution_count": null,
      "id": "054e0eb8-9768-41c5-832a-3dc99fb1c36e",
      "metadata": {
        "id": "054e0eb8-9768-41c5-832a-3dc99fb1c36e",
        "outputId": "3bd32a90-e036-4279-8635-f0066329ecca"
      },
      "outputs": [
        {
          "name": "stdout",
          "output_type": "stream",
          "text": [
            "5\n",
            "1\n",
            "6\n",
            "1.5\n",
            "1\n",
            "1\n",
            "9\n"
          ]
        }
      ],
      "source": [
        "print(3 + 2)   # 加法\n",
        "print(3 - 2)   # 减法\n",
        "print(3 * 2)   # 乘法\n",
        "print(3 / 2)   # 除法\n",
        "print(3 // 2)  # 取整除法商\n",
        "print(3 % 2)   # 取整除法余数\n",
        "print(3 ** 2)  # 次方/幂"
      ]
    },
    {
      "cell_type": "markdown",
      "id": "b83f1be0-47ae-4c22-b5f1-7b760812bcdb",
      "metadata": {
        "id": "b83f1be0-47ae-4c22-b5f1-7b760812bcdb"
      },
      "source": [
        "注意：整数除法对正数和负数都是向下取整。"
      ]
    },
    {
      "cell_type": "code",
      "execution_count": null,
      "id": "2165c70b-3991-4e10-9b9b-d87f3905c7ba",
      "metadata": {
        "id": "2165c70b-3991-4e10-9b9b-d87f3905c7ba",
        "outputId": "a8edb84c-4cb4-47aa-d6d3-32110ec3a3b9"
      },
      "outputs": [
        {
          "name": "stdout",
          "output_type": "stream",
          "text": [
            "1\n",
            "-2\n"
          ]
        }
      ],
      "source": [
        "print(5 // 3)       # => 1\n",
        "print(-5 // 3)      # => -2"
      ]
    },
    {
      "cell_type": "markdown",
      "id": "857c20d1-ad40-45fa-871b-a4a4ec3db8a8",
      "metadata": {
        "id": "857c20d1-ad40-45fa-871b-a4a4ec3db8a8"
      },
      "source": [
        "Python 里小数和整数是分开来的两类。小数叫 `float`，整数叫 `int`。它们之间可以互相转换："
      ]
    },
    {
      "cell_type": "code",
      "execution_count": null,
      "id": "8fdb15a9-0d2d-47da-a64f-ebcbc8e7d813",
      "metadata": {
        "id": "8fdb15a9-0d2d-47da-a64f-ebcbc8e7d813",
        "outputId": "ccf6e407-98c5-436d-c121-efed3eb1b1b2"
      },
      "outputs": [
        {
          "name": "stdout",
          "output_type": "stream",
          "text": [
            "3\n",
            "3.0\n"
          ]
        }
      ],
      "source": [
        "# 小数 → 整数\n",
        "print(int(3.1))\n",
        "\n",
        "# 整数 → 小数\n",
        "print(float(3))"
      ]
    },
    {
      "cell_type": "markdown",
      "id": "d3bc3798-dbc1-4737-8081-93b8b1b3f993",
      "metadata": {
        "id": "d3bc3798-dbc1-4737-8081-93b8b1b3f993"
      },
      "source": [
        "很多人也会直接在一个整数后面加上.0，这样系统默认这个数字会是`float`。这样的话除法结果也会是一个`float`"
      ]
    },
    {
      "cell_type": "code",
      "execution_count": null,
      "id": "3015e0cf-9461-48cd-a33b-1738db5428b3",
      "metadata": {
        "id": "3015e0cf-9461-48cd-a33b-1738db5428b3",
        "outputId": "f13dd655-de53-42d0-85e3-4c7902325cc4"
      },
      "outputs": [
        {
          "name": "stdout",
          "output_type": "stream",
          "text": [
            "3.3333333333333335\n"
          ]
        }
      ],
      "source": [
        "print(10.0 / 3)  # = 3.3333333333333333"
      ]
    },
    {
      "cell_type": "markdown",
      "id": "plain-constraint",
      "metadata": {
        "id": "plain-constraint"
      },
      "source": [
        "## 插曲：变量\n",
        "在我们学习输入方法之前，需要先学习一个重要的概念：**变量**。可以把变量想象成是一个容器，这个容器有一个名字（变量名），但是里面可以存放任何东西（变量值）。比如说，如果这个变量的名字是 `variable` 的话，那么就可以用 `variable = value` 把 `value` 的值存到 `variable` 里面。\n",
        "\n",
        "*所以也可以把等号 `=` 想象成向左的箭头 `←`。*\n",
        "\n",
        "这里我们定义两个变量 `x` 和 `y`："
      ]
    },
    {
      "cell_type": "code",
      "execution_count": null,
      "id": "undefined-closure",
      "metadata": {
        "id": "undefined-closure"
      },
      "outputs": [],
      "source": [
        "x = 20\n",
        "y = x + 1"
      ]
    },
    {
      "cell_type": "markdown",
      "id": "minute-start",
      "metadata": {
        "id": "minute-start"
      },
      "source": [
        "于是它们的值就变成了："
      ]
    },
    {
      "cell_type": "code",
      "execution_count": null,
      "id": "humanitarian-hands",
      "metadata": {
        "id": "humanitarian-hands",
        "outputId": "c29cce49-0252-4227-fd2f-d5a2deb698d2"
      },
      "outputs": [
        {
          "name": "stdout",
          "output_type": "stream",
          "text": [
            "x is 20\n",
            "y is 21\n"
          ]
        }
      ],
      "source": [
        "print('x is', x)\n",
        "print('y is', y)"
      ]
    },
    {
      "cell_type": "markdown",
      "id": "running-primary",
      "metadata": {
        "id": "running-primary"
      },
      "source": [
        "而比如要让 `x` 和 `y` 的值互换的话，可以直接用 `,` 来分隔两个变量，让值从右边传到左边："
      ]
    },
    {
      "cell_type": "code",
      "execution_count": null,
      "id": "initial-shore",
      "metadata": {
        "id": "initial-shore",
        "outputId": "074c7da8-bec0-494e-f3e8-9d3cdfe697db"
      },
      "outputs": [
        {
          "name": "stdout",
          "output_type": "stream",
          "text": [
            "x is 21\n",
            "y is 20\n"
          ]
        }
      ],
      "source": [
        "x, y = y, x\n",
        "print('x is', x)\n",
        "print('y is', y)"
      ]
    },
    {
      "cell_type": "code",
      "execution_count": null,
      "id": "f34f6dd8-b163-4103-a386-71575144189c",
      "metadata": {
        "id": "f34f6dd8-b163-4103-a386-71575144189c",
        "outputId": "259fa5a0-34f8-4b72-d24b-f2e9d798f30d"
      },
      "outputs": [
        {
          "name": "stdout",
          "output_type": "stream",
          "text": [
            "2021\n",
            "0.5\n"
          ]
        }
      ],
      "source": [
        "this_year = 2021\n",
        "half = 1 / 2\n",
        "\n",
        "print(this_year)\n",
        "print(half)"
      ]
    },
    {
      "cell_type": "markdown",
      "id": "cd4ba22d",
      "metadata": {
        "id": "cd4ba22d"
      },
      "source": [
        "#### 综合运用\n",
        "\n",
        "现在，运用运算符号和变量，我们就可以做计算了！\n",
        "\n",
        "小学数学题：Wendy的年龄是17岁。Tom的年龄是Wendy两倍。Jerry比Tom小5岁。请问Jerry多大？"
      ]
    },
    {
      "cell_type": "code",
      "execution_count": null,
      "id": "cbf5e1b0",
      "metadata": {
        "id": "cbf5e1b0",
        "outputId": "8d346658-f4f5-4481-8513-730b59b604cf"
      },
      "outputs": [
        {
          "name": "stdout",
          "output_type": "stream",
          "text": [
            "29\n"
          ]
        }
      ],
      "source": [
        "age_wendy = 17 \n",
        "age_tom = 2*age_wendy\n",
        "age_jerry = age_tom - 5 \n",
        "print(age_jerry)"
      ]
    },
    {
      "cell_type": "markdown",
      "id": "f64d91f8",
      "metadata": {
        "id": "f64d91f8"
      },
      "source": [
        "多啰嗦一句，a += b 的意思就是 a = a + b。"
      ]
    },
    {
      "cell_type": "code",
      "execution_count": null,
      "id": "d4ce2ce9",
      "metadata": {
        "id": "d4ce2ce9",
        "outputId": "7b1e4abd-6a26-4c8b-8327-88d31fdee95b"
      },
      "outputs": [
        {
          "name": "stdout",
          "output_type": "stream",
          "text": [
            "9\n"
          ]
        }
      ],
      "source": [
        "a = 6 \n",
        "b = 3\n",
        "a += b\n",
        "print(a)"
      ]
    },
    {
      "cell_type": "markdown",
      "id": "uniform-demand",
      "metadata": {
        "id": "uniform-demand"
      },
      "source": [
        "### 布尔值\n",
        "“布尔值”听起来很高端吧，其实它就只有两个值：`True`（真）和 `False`（假）。我们可以用 `==` 来测试两个数是否相等，或者 `>` 和 `<` 来测试不等式。它们都会产生一个布尔值："
      ]
    },
    {
      "cell_type": "code",
      "execution_count": null,
      "id": "indian-electric",
      "metadata": {
        "id": "indian-electric",
        "outputId": "7c9c17c3-28db-4045-f25f-ddd9c275bb72"
      },
      "outputs": [
        {
          "name": "stdout",
          "output_type": "stream",
          "text": [
            "False\n",
            "True\n",
            "False\n",
            "True\n"
          ]
        }
      ],
      "source": [
        "this_year == 2022\n",
        "print(this_year == 2026)  # 等于\n",
        "print(this_year != 2026)  # 不等于\n",
        "print(this_year > 2021)   # 大于\n",
        "print(this_year <= 2021)  # 小于等于"
      ]
    },
    {
      "cell_type": "markdown",
      "id": "unlike-drove",
      "metadata": {
        "id": "unlike-drove"
      },
      "source": [
        "布尔值可以用 `and`（且）和 `or`（或）来做运算。`and` 代表两边都是 `True`，而 `or` 只需要两边有一个是 `True` 即可。举几个例子就明白了："
      ]
    },
    {
      "cell_type": "code",
      "execution_count": null,
      "id": "cooked-harris",
      "metadata": {
        "id": "cooked-harris",
        "outputId": "a9fd3505-40f4-4624-9405-4284f4ed3738"
      },
      "outputs": [
        {
          "name": "stdout",
          "output_type": "stream",
          "text": [
            "True\n",
            "False\n",
            "False\n",
            "True\n",
            "True\n",
            "False\n"
          ]
        }
      ],
      "source": [
        "print(True and True)\n",
        "print(True and False)\n",
        "print(False and False)\n",
        "\n",
        "print(True or True)\n",
        "print(True or False)\n",
        "print(False or False)"
      ]
    },
    {
      "cell_type": "markdown",
      "id": "97127085",
      "metadata": {
        "id": "97127085"
      },
      "source": [
        "我们如果想写出一个否定语句也是很简单，就是用`not`："
      ]
    },
    {
      "cell_type": "code",
      "execution_count": null,
      "id": "5433f254",
      "metadata": {
        "colab": {
          "base_uri": "https://localhost:8080/",
          "height": 201
        },
        "id": "5433f254",
        "outputId": "4b3c06e6-e890-430b-b024-03f49770f878"
      },
      "outputs": [
        {
          "output_type": "stream",
          "name": "stdout",
          "text": [
            "False\n"
          ]
        },
        {
          "output_type": "error",
          "ename": "NameError",
          "evalue": "ignored",
          "traceback": [
            "\u001b[0;31m---------------------------------------------------------------------------\u001b[0m",
            "\u001b[0;31mNameError\u001b[0m                                 Traceback (most recent call last)",
            "\u001b[0;32m<ipython-input-2-41719fd9a4f1>\u001b[0m in \u001b[0;36m<module>\u001b[0;34m()\u001b[0m\n\u001b[1;32m      1\u001b[0m \u001b[0mprint\u001b[0m\u001b[0;34m(\u001b[0m\u001b[0;32mnot\u001b[0m \u001b[0;32mTrue\u001b[0m\u001b[0;34m)\u001b[0m\u001b[0;34m\u001b[0m\u001b[0;34m\u001b[0m\u001b[0m\n\u001b[0;32m----> 2\u001b[0;31m \u001b[0mprint\u001b[0m\u001b[0;34m(\u001b[0m\u001b[0;32mnot\u001b[0m \u001b[0mthis_year\u001b[0m \u001b[0;34m<=\u001b[0m \u001b[0;36m2021\u001b[0m\u001b[0;34m)\u001b[0m \u001b[0;31m#大于\u001b[0m\u001b[0;34m\u001b[0m\u001b[0;34m\u001b[0m\u001b[0m\n\u001b[0m",
            "\u001b[0;31mNameError\u001b[0m: name 'this_year' is not defined"
          ]
        }
      ],
      "source": [
        "print(not True)\n",
        "print(not this_year <= 2021) #大于"
      ]
    },
    {
      "cell_type": "markdown",
      "id": "sitting-louis",
      "metadata": {
        "id": "sitting-louis"
      },
      "source": [
        "### 字符串\n",
        "字符串是任何用引号 `''` 或者 `\"\"` 围起来的文本，我们之前已经在 `print()` 里面见到过了。"
      ]
    },
    {
      "cell_type": "code",
      "execution_count": null,
      "id": "handed-disabled",
      "metadata": {
        "id": "handed-disabled",
        "outputId": "3b3a5ef1-b152-4aa0-e975-1c9b9c7068fe"
      },
      "outputs": [
        {
          "name": "stdout",
          "output_type": "stream",
          "text": [
            "Tech X Academy\n"
          ]
        }
      ],
      "source": [
        "print('Tech', 'X', \"Academy\")"
      ]
    },
    {
      "cell_type": "markdown",
      "id": "variable-discretion",
      "metadata": {
        "id": "variable-discretion"
      },
      "source": [
        "`\\n`、`\\t`、`\\'`可以分别表示换行、缩进、引号本身："
      ]
    },
    {
      "cell_type": "code",
      "execution_count": null,
      "id": "inclusive-information",
      "metadata": {
        "id": "inclusive-information",
        "outputId": "553a79e7-56d2-49dc-96a5-26cd630cb3ae"
      },
      "outputs": [
        {
          "name": "stdout",
          "output_type": "stream",
          "text": [
            "Line 1\n",
            "Line 2\n",
            "\tI'm indented\n"
          ]
        }
      ],
      "source": [
        "print('Line 1\\nLine 2')\n",
        "print('\\tI\\'m indented')"
      ]
    },
    {
      "cell_type": "markdown",
      "id": "powerful-replacement",
      "metadata": {
        "id": "powerful-replacement"
      },
      "source": [
        "你可以使用 `+` 来连接几个字符串："
      ]
    },
    {
      "cell_type": "code",
      "execution_count": null,
      "id": "metallic-marijuana",
      "metadata": {
        "id": "metallic-marijuana",
        "outputId": "3361f02c-efcc-4395-f6ad-3f6b6a0842b7"
      },
      "outputs": [
        {
          "name": "stdout",
          "output_type": "stream",
          "text": [
            "TechXAcademy\n"
          ]
        }
      ],
      "source": [
        "x = 'X'\n",
        "print('Tech' + x + 'Academy')"
      ]
    },
    {
      "cell_type": "code",
      "execution_count": null,
      "id": "2bca0385",
      "metadata": {
        "id": "2bca0385"
      },
      "outputs": [],
      "source": [
        "字符串真的就是一串字符，所以你可以获取到里面单独的字符值："
      ]
    },
    {
      "cell_type": "code",
      "execution_count": null,
      "id": "14c031fc",
      "metadata": {
        "id": "14c031fc",
        "outputId": "2f89e849-be4b-494d-82c1-239b4e27f2d1"
      },
      "outputs": [
        {
          "data": {
            "text/plain": [
              "'T'"
            ]
          },
          "execution_count": 7,
          "metadata": {},
          "output_type": "execute_result"
        }
      ],
      "source": [
        "'TechXAcademy'[0]"
      ]
    },
    {
      "cell_type": "markdown",
      "id": "adjusted-inspiration",
      "metadata": {
        "id": "adjusted-inspiration"
      },
      "source": [
        "字符串的名字是 `str`，也可以用它来把任何东西转成字符串："
      ]
    },
    {
      "cell_type": "code",
      "execution_count": null,
      "id": "after-bedroom",
      "metadata": {
        "id": "after-bedroom",
        "outputId": "1a5d1869-9071-4309-fa48-eda23bca2305"
      },
      "outputs": [
        {
          "name": "stdout",
          "output_type": "stream",
          "text": [
            "1.0 True\n"
          ]
        }
      ],
      "source": [
        "print(str(1.0) + ' ' + str(True))"
      ]
    },
    {
      "cell_type": "markdown",
      "id": "anticipated-parish",
      "metadata": {
        "id": "anticipated-parish"
      },
      "source": [
        "还记得 `float` 和 `int` 吗？它们可以把字符串转回数字："
      ]
    },
    {
      "cell_type": "code",
      "execution_count": null,
      "id": "occupied-collect",
      "metadata": {
        "id": "occupied-collect",
        "outputId": "4f35e34c-bf11-489a-eec5-48883a36a877"
      },
      "outputs": [
        {
          "name": "stdout",
          "output_type": "stream",
          "text": [
            "1010.5\n"
          ]
        }
      ],
      "source": [
        "print(int('2021') * float('0.5'))"
      ]
    },
    {
      "cell_type": "markdown",
      "id": "10cbe93f",
      "metadata": {
        "id": "10cbe93f"
      },
      "source": [
        "`f-string`特别有用，想在一句话中`print`出变量，可以这么做"
      ]
    },
    {
      "cell_type": "code",
      "execution_count": null,
      "id": "0fb0f78b",
      "metadata": {
        "id": "0fb0f78b",
        "outputId": "97df8ecd-af5d-40ac-efe4-941a45f188d6"
      },
      "outputs": [
        {
          "name": "stdout",
          "output_type": "stream",
          "text": [
            "This year is not 2021. It's 2022.\n",
            "This year is not 2021. It's 2022.\n"
          ]
        }
      ],
      "source": [
        "print('This year is not ' + str(this_year) + '. It\\'s 2022.' )\n",
        "print(f'This year is not {this_year}. It\\'s 2022.') #一样 但是更加简练清晰明了"
      ]
    },
    {
      "cell_type": "markdown",
      "id": "liquid-chase",
      "metadata": {
        "id": "liquid-chase"
      },
      "source": [
        "## 插曲：`None`\n",
        "`None` 是一个独立的类型，它的意思就是“什么都不是”。一般情况下不会遇到它，但是遇到了也不需要怕，只要知道它的意思类似是“空”就可以了。"
      ]
    },
    {
      "cell_type": "code",
      "execution_count": null,
      "id": "7f9b6cf4",
      "metadata": {
        "id": "7f9b6cf4"
      },
      "outputs": [],
      "source": [
        "None"
      ]
    },
    {
      "cell_type": "markdown",
      "id": "handmade-fellow",
      "metadata": {
        "id": "handmade-fellow"
      },
      "source": [
        "### 列表\n",
        "列表 `list` 可以用来存储一系列东西。这个东西可以是任何数字、字符串、布尔值，或者甚至是一个列表本身。列表包在 `[]` 里面，用 `,` 分隔开来。举个栗子："
      ]
    },
    {
      "cell_type": "code",
      "execution_count": null,
      "id": "plain-trouble",
      "metadata": {
        "id": "plain-trouble"
      },
      "outputs": [],
      "source": [
        "chestnuts = ['chestnut', 1.0, '栗子']"
      ]
    },
    {
      "cell_type": "markdown",
      "id": "least-ireland",
      "metadata": {
        "id": "least-ireland"
      },
      "source": [
        "列表的长度不是固定的，但是可以用 `len()` 来确定它当前的长度："
      ]
    },
    {
      "cell_type": "code",
      "execution_count": null,
      "id": "valued-frame",
      "metadata": {
        "id": "valued-frame",
        "outputId": "f10d124f-1d54-42e1-adea-032ac6120010"
      },
      "outputs": [
        {
          "name": "stdout",
          "output_type": "stream",
          "text": [
            "3\n"
          ]
        }
      ],
      "source": [
        "print(len(chestnuts))"
      ]
    },
    {
      "cell_type": "markdown",
      "id": "grateful-found",
      "metadata": {
        "id": "grateful-found"
      },
      "source": [
        "而要获取它的某一个元素的话，就可以用 `list[index]` 的表达式。其中索引（index）就是“第几个元素”的意思。\n",
        "\n",
        "⚠️ 注意：Python 里面的索引都是从 0 开始的，也就是说第 1 个元素是 `list[0]`，第二个是 `list[1]`，以此类推："
      ]
    },
    {
      "cell_type": "code",
      "execution_count": null,
      "id": "developing-samba",
      "metadata": {
        "id": "developing-samba",
        "outputId": "1e17c746-d2bd-47ff-95c0-37d3503551bd"
      },
      "outputs": [
        {
          "name": "stdout",
          "output_type": "stream",
          "text": [
            "chestnut\n",
            "1.0\n",
            "栗子\n"
          ]
        }
      ],
      "source": [
        "print(chestnuts[0])\n",
        "print(chestnuts[1])\n",
        "print(chestnuts[2])"
      ]
    },
    {
      "cell_type": "markdown",
      "id": "bronze-canberra",
      "metadata": {
        "id": "bronze-canberra"
      },
      "source": [
        "特殊情况：`list[-1]` 就是列表的最后一个元素："
      ]
    },
    {
      "cell_type": "code",
      "execution_count": null,
      "id": "homeless-giving",
      "metadata": {
        "id": "homeless-giving",
        "outputId": "c9766862-b4e6-4899-d886-2162da14a114"
      },
      "outputs": [
        {
          "name": "stdout",
          "output_type": "stream",
          "text": [
            "栗子\n"
          ]
        }
      ],
      "source": [
        "print(chestnuts[-1])"
      ]
    },
    {
      "cell_type": "markdown",
      "id": "expressed-photographer",
      "metadata": {
        "id": "expressed-photographer"
      },
      "source": [
        "而要判断元素是否在列表里，可以用 `a in list` 的语法："
      ]
    },
    {
      "cell_type": "code",
      "execution_count": null,
      "id": "monthly-mistress",
      "metadata": {
        "id": "monthly-mistress",
        "outputId": "3f50ee41-7eb3-48de-809a-5d64f623afb2"
      },
      "outputs": [
        {
          "name": "stdout",
          "output_type": "stream",
          "text": [
            "True\n",
            "False\n"
          ]
        }
      ],
      "source": [
        "print('栗子' in chestnuts)\n",
        "print('梨子' in chestnuts)"
      ]
    },
    {
      "cell_type": "markdown",
      "id": "ancient-tract",
      "metadata": {
        "id": "ancient-tract"
      },
      "source": [
        "列表里的元素是可以被拓展或删除的。增加一个元素，可以用 `list.append()`："
      ]
    },
    {
      "cell_type": "code",
      "execution_count": null,
      "id": "passing-butterfly",
      "metadata": {
        "id": "passing-butterfly",
        "outputId": "02d28857-3d4e-4261-c64d-a9b29aac0afa"
      },
      "outputs": [
        {
          "data": {
            "text/plain": [
              "['chestnut', 1.0, '栗子', '栗子', '栗子', '栗子']"
            ]
          },
          "execution_count": 31,
          "metadata": {},
          "output_type": "execute_result"
        }
      ],
      "source": [
        "chestnuts.append('栗子')\n",
        "chestnuts.append('栗子')\n",
        "chestnuts.append('栗子')\n",
        "# 代码框的最后一行会被自动输出来，不需要 print\n",
        "chestnuts"
      ]
    },
    {
      "cell_type": "markdown",
      "id": "median-acting",
      "metadata": {
        "id": "median-acting"
      },
      "source": [
        "删除第 `i` 个元素，则用 `del list[i]`："
      ]
    },
    {
      "cell_type": "code",
      "execution_count": null,
      "id": "grateful-fighter",
      "metadata": {
        "id": "grateful-fighter",
        "outputId": "54f00cd4-6d11-4945-9c28-897c49f2726e"
      },
      "outputs": [
        {
          "data": {
            "text/plain": [
              "[1.0, '栗子', '栗子', '栗子', '栗子']"
            ]
          },
          "execution_count": 32,
          "metadata": {},
          "output_type": "execute_result"
        }
      ],
      "source": [
        "del chestnuts[0]\n",
        "chestnuts"
      ]
    },
    {
      "cell_type": "markdown",
      "id": "reflected-madness",
      "metadata": {
        "id": "reflected-madness"
      },
      "source": [
        "合并两个列表，可以直接用 `+` 号："
      ]
    },
    {
      "cell_type": "code",
      "execution_count": null,
      "id": "competent-hierarchy",
      "metadata": {
        "id": "competent-hierarchy",
        "outputId": "fd9721bb-7da3-46c5-c7e9-fbec826bfd45"
      },
      "outputs": [
        {
          "data": {
            "text/plain": [
              "[1.0, '栗子', '栗子', '栗子', '栗子', 2.0, '梨子']"
            ]
          },
          "execution_count": 33,
          "metadata": {},
          "output_type": "execute_result"
        }
      ],
      "source": [
        "pears = [2.0, '梨子']\n",
        "chestnuts + pears"
      ]
    },
    {
      "cell_type": "markdown",
      "id": "b6988e10",
      "metadata": {
        "id": "b6988e10"
      },
      "source": [
        "获取一个列表中其中指定从`i`到`j`个元素，可以用`list[i:j]`。注意不会包括第`j`项"
      ]
    },
    {
      "cell_type": "code",
      "execution_count": null,
      "id": "79e0749a",
      "metadata": {
        "id": "79e0749a",
        "outputId": "0b28ee32-5139-4444-d35b-80606aed55b7"
      },
      "outputs": [
        {
          "data": {
            "text/plain": [
              "[2, 3]"
            ]
          },
          "execution_count": 34,
          "metadata": {},
          "output_type": "execute_result"
        }
      ],
      "source": [
        "numbers = [1,2,3,4,5,6]\n",
        "numbers[1:3]"
      ]
    },
    {
      "cell_type": "markdown",
      "id": "77744e0a",
      "metadata": {
        "id": "77744e0a"
      },
      "source": [
        "从`i`到末尾，可以用`list[i:]`。从开头到`j`,可以用`list[:j]`。"
      ]
    },
    {
      "cell_type": "code",
      "execution_count": null,
      "id": "fdc34ed9",
      "metadata": {
        "id": "fdc34ed9",
        "outputId": "d4338e16-d72a-4072-f743-1a93b3394fd1"
      },
      "outputs": [
        {
          "name": "stdout",
          "output_type": "stream",
          "text": [
            "[3, 4, 5, 6]\n",
            "[1, 2, 3, 4]\n"
          ]
        }
      ],
      "source": [
        "print(numbers[2:])\n",
        "print(numbers[:-2])"
      ]
    },
    {
      "cell_type": "markdown",
      "id": "sound-campus",
      "metadata": {
        "id": "sound-campus"
      },
      "source": [
        "### 字典\n",
        "字典 `dict` 和列表很像，也是一种储存很多个值的方式。不过不同于列表，它们是没有顺序的。列表是由一个索引（index）来标示一个值（value）的，而字典是由一个键（key）来标示一个值（value）的。字典包在花括号 `{}` 里面，用 `key: value` 的形式添加一对键和值："
      ]
    },
    {
      "cell_type": "code",
      "execution_count": null,
      "id": "lesbian-virus",
      "metadata": {
        "id": "lesbian-virus"
      },
      "outputs": [],
      "source": [
        "chinese_to_english = {'栗子': 'chestnut', '梨子': 'pear', '李子': 'plum', '离子': 'ion'}"
      ]
    },
    {
      "cell_type": "markdown",
      "id": "athletic-lawyer",
      "metadata": {
        "id": "athletic-lawyer"
      },
      "source": [
        "为了好看一点🕶️，我们也习惯把它分成几行写："
      ]
    },
    {
      "cell_type": "code",
      "execution_count": null,
      "id": "pregnant-transfer",
      "metadata": {
        "id": "pregnant-transfer"
      },
      "outputs": [],
      "source": [
        "chinese_to_english = {\n",
        "    '栗子': 'chestnut',\n",
        "    '梨子': 'pear',\n",
        "    '李子': 'plum',\n",
        "    '离子': 'ion'\n",
        "}"
      ]
    },
    {
      "cell_type": "markdown",
      "id": "associate-mercy",
      "metadata": {
        "id": "associate-mercy"
      },
      "source": [
        "和列表一样，要获取它的总长度可以用 `len()`："
      ]
    },
    {
      "cell_type": "code",
      "execution_count": null,
      "id": "peripheral-advancement",
      "metadata": {
        "id": "peripheral-advancement",
        "outputId": "0523ec76-bb9e-42d2-a844-11408d19a4ba"
      },
      "outputs": [
        {
          "data": {
            "text/plain": [
              "4"
            ]
          },
          "execution_count": 38,
          "metadata": {},
          "output_type": "execute_result"
        }
      ],
      "source": [
        "len(chinese_to_english)"
      ]
    },
    {
      "cell_type": "markdown",
      "id": "executive-mounting",
      "metadata": {
        "id": "executive-mounting"
      },
      "source": [
        "要从键（key）获取一个值（value），可以用 `dict[key]` 的形式："
      ]
    },
    {
      "cell_type": "code",
      "execution_count": null,
      "id": "dominican-position",
      "metadata": {
        "id": "dominican-position",
        "outputId": "de64602c-9c85-41b9-ec02-cf459ff2af64"
      },
      "outputs": [
        {
          "data": {
            "text/plain": [
              "'chestnut'"
            ]
          },
          "execution_count": 39,
          "metadata": {},
          "output_type": "execute_result"
        }
      ],
      "source": [
        "chinese_to_english['栗子']"
      ]
    },
    {
      "cell_type": "markdown",
      "id": "bound-camping",
      "metadata": {
        "id": "bound-camping"
      },
      "source": [
        "要添加或者更新一个值，可以用 `dict[key] = value`。\n",
        "\n",
        "⚠️ 注意：字典里面每一个键（key）只能出现一次，所以重复的键会被覆盖掉。"
      ]
    },
    {
      "cell_type": "code",
      "execution_count": null,
      "id": "approved-pastor",
      "metadata": {
        "id": "approved-pastor",
        "outputId": "ea6f18bd-b386-4580-f423-fd7038ccbc90"
      },
      "outputs": [
        {
          "data": {
            "text/plain": [
              "{'栗子': 'Chestnut!', '梨子': 'pear', '李子': 'plum', '离子': 'ion', '粒子': 'particle'}"
            ]
          },
          "execution_count": 40,
          "metadata": {},
          "output_type": "execute_result"
        }
      ],
      "source": [
        "chinese_to_english['粒子'] = 'particle'   # 添加 '粒子': 'particle'\n",
        "chinese_to_english['栗子'] = 'Chestnut!'  # 更新 '栗子': 'Chestnut!'\n",
        "chinese_to_english"
      ]
    },
    {
      "cell_type": "markdown",
      "id": "c93d19f7",
      "metadata": {
        "id": "c93d19f7"
      },
      "source": [
        "注意：如果用`dict[key]`去获取一个不存在的`key`，就会导致出现KeyError。所以保险起见可以用`dict.get(key)`"
      ]
    },
    {
      "cell_type": "code",
      "execution_count": null,
      "id": "96bf70c0",
      "metadata": {
        "id": "96bf70c0"
      },
      "outputs": [],
      "source": [
        "chinese_to_english['this does not exist']"
      ]
    },
    {
      "cell_type": "code",
      "execution_count": null,
      "id": "ffa69114",
      "metadata": {
        "id": "ffa69114"
      },
      "outputs": [],
      "source": [
        "chinese_to_english.get('栗子')\n",
        "chinese_to_english.get('this does not exist') #会返回None"
      ]
    },
    {
      "cell_type": "markdown",
      "id": "square-publicity",
      "metadata": {
        "id": "square-publicity"
      },
      "source": [
        "而要删除一对键和值，可以用 `del dict[key]`："
      ]
    },
    {
      "cell_type": "code",
      "execution_count": null,
      "id": "figured-assurance",
      "metadata": {
        "id": "figured-assurance",
        "outputId": "15681fae-a880-47f2-8fee-10100a9117d5"
      },
      "outputs": [
        {
          "data": {
            "text/plain": [
              "{'栗子': 'Chestnut!', '梨子': 'pear', '李子': 'plum', '粒子': 'particle'}"
            ]
          },
          "execution_count": 41,
          "metadata": {},
          "output_type": "execute_result"
        }
      ],
      "source": [
        "del chinese_to_english['离子']\n",
        "chinese_to_english"
      ]
    },
    {
      "cell_type": "markdown",
      "id": "generous-score",
      "metadata": {
        "id": "generous-score"
      },
      "source": [
        "要判断一个键（key）是否在字典内，可以直接用 `key in dict`："
      ]
    },
    {
      "cell_type": "code",
      "execution_count": null,
      "id": "employed-hurricane",
      "metadata": {
        "id": "employed-hurricane",
        "outputId": "55102ff2-0316-43b8-cef2-8e017c84218e"
      },
      "outputs": [
        {
          "name": "stdout",
          "output_type": "stream",
          "text": [
            "True\n",
            "False\n"
          ]
        }
      ],
      "source": [
        "print('栗子' in chinese_to_english)\n",
        "print('离子' in chinese_to_english)"
      ]
    },
    {
      "cell_type": "markdown",
      "id": "flying-probe",
      "metadata": {
        "id": "flying-probe"
      },
      "source": [
        "而要判断一个元素（value）是否在字典内，可以用 `value in dict.values()`："
      ]
    },
    {
      "cell_type": "code",
      "execution_count": null,
      "id": "aerial-bosnia",
      "metadata": {
        "id": "aerial-bosnia",
        "outputId": "f6ca1954-98d1-4056-e05f-47772bbedd5f"
      },
      "outputs": [
        {
          "name": "stdout",
          "output_type": "stream",
          "text": [
            "True\n",
            "False\n"
          ]
        }
      ],
      "source": [
        "print('Chestnut!' in chinese_to_english.values())\n",
        "print('ion' in chinese_to_english.values())"
      ]
    },
    {
      "cell_type": "markdown",
      "id": "79f5b238",
      "metadata": {
        "id": "79f5b238"
      },
      "source": [
        "一个`dict`的`key`和`value`可以是任何数据结构，甚至可以是`dict`里面套`dict`，非常经常用的就是用一个字符串或者数字当`key`，列表当`value`，比如说这样："
      ]
    },
    {
      "cell_type": "code",
      "execution_count": null,
      "id": "ca07ea4c",
      "metadata": {
        "id": "ca07ea4c"
      },
      "outputs": [],
      "source": [
        "xacademy = { \n",
        "    'TechX': ['CV','NLP','AIML','Game Design','Computer Graphics', 'Math Modeling', 'IoT', 'Music Production'],\n",
        "    'BioX': ['Molecular Neuroscience','Cognitive Neuroscience','Genetics','Evolution'],\n",
        "    'DesignX': ['Industrial Design','Architecture','Human-Computer Interaction'],\n",
        "    'SocioX': ['Computational Social Science','Game Theory','Urban Sociology']\n",
        "}\n",
        "xacademy['TechX'].append('RL')"
      ]
    },
    {
      "cell_type": "markdown",
      "id": "53a724ad",
      "metadata": {
        "id": "53a724ad"
      },
      "source": [
        "### 判别数据结构\n",
        "\n",
        "我们可以用`type()`来判别一个变量到底是属于什么数据结构："
      ]
    },
    {
      "cell_type": "code",
      "execution_count": null,
      "id": "49d10888",
      "metadata": {
        "id": "49d10888",
        "outputId": "539e126d-1c8d-430f-a455-d113ffa84928"
      },
      "outputs": [
        {
          "name": "stdout",
          "output_type": "stream",
          "text": [
            "<class 'dict'>\n"
          ]
        },
        {
          "ename": "NameError",
          "evalue": "name 'this_year' is not defined",
          "output_type": "error",
          "traceback": [
            "\u001b[0;31m---------------------------------------------------------------------------\u001b[0m",
            "\u001b[0;31mNameError\u001b[0m                                 Traceback (most recent call last)",
            "Input \u001b[0;32mIn [15]\u001b[0m, in \u001b[0;36m<cell line: 2>\u001b[0;34m()\u001b[0m\n\u001b[1;32m      1\u001b[0m \u001b[38;5;28mprint\u001b[39m(\u001b[38;5;28mtype\u001b[39m(xacademy))\n\u001b[0;32m----> 2\u001b[0m \u001b[38;5;28mprint\u001b[39m(\u001b[38;5;28mtype\u001b[39m(\u001b[43mthis_year\u001b[49m))\n\u001b[1;32m      3\u001b[0m \u001b[38;5;28mprint\u001b[39m(\u001b[38;5;28mtype\u001b[39m(\u001b[38;5;124m\"\u001b[39m\u001b[38;5;124mHello World!\u001b[39m\u001b[38;5;124m\"\u001b[39m))\n",
            "\u001b[0;31mNameError\u001b[0m: name 'this_year' is not defined"
          ]
        }
      ],
      "source": [
        "print(type(xacademy))\n",
        "print(type(this_year))\n",
        "print(type(\"Hello World!\"))"
      ]
    },
    {
      "cell_type": "markdown",
      "id": "buried-worth",
      "metadata": {
        "id": "buried-worth"
      },
      "source": [
        "\n",
        "\n",
        "\n",
        "# 流程控制：判断与循环\n",
        "\n",
        "掌握了 Python 的基础之后，我们可以让代码作出一些更复杂、智能的行为了。让我们出发，来康康 Python 的判断和循环怎么实现吧！"
      ]
    },
    {
      "cell_type": "code",
      "execution_count": null,
      "id": "886eec09",
      "metadata": {
        "id": "886eec09"
      },
      "outputs": [],
      "source": [
        "light = 'green'"
      ]
    },
    {
      "cell_type": "markdown",
      "id": "framed-temple",
      "metadata": {
        "id": "framed-temple"
      },
      "source": [
        "## 判断：`if`\n",
        "如果我们要让 Python 根据不同的情况作出不同的**判断**，那么就要用到 `if` 语句了。\n",
        "\n",
        "比如，如果现在是绿灯，那么让车往前走，写成代码就是："
      ]
    },
    {
      "cell_type": "code",
      "execution_count": null,
      "id": "interested-firmware",
      "metadata": {
        "id": "interested-firmware",
        "outputId": "9b44d7db-b687-4181-e2b1-e8e214acd143"
      },
      "outputs": [
        {
          "data": {
            "text/plain": [
              "20"
            ]
          },
          "execution_count": 46,
          "metadata": {},
          "output_type": "execute_result"
        }
      ],
      "source": [
        "if light == 'green':\n",
        "    speed = 20\n",
        "\n",
        "if light == 'red':\n",
        "    speed = 0\n",
        "\n",
        "speed"
      ]
    },
    {
      "cell_type": "markdown",
      "id": "right-restaurant",
      "metadata": {
        "id": "right-restaurant"
      },
      "source": [
        "我们仔细研究一下上面的语句吧！\n",
        "\n",
        "第一行`if`的意思是**如果** `light == 'green'` 这个布尔值判断成立，就执行下面的代码 `speed = 20`。\n",
        "\n",
        "第二个 `if` 因为 `light` 不等于 `'red'`，所以下面的代码就没有被执行。`speed` 也就还是 `20`。\n",
        "\n",
        "上面的代码也可以简化成下面这样："
      ]
    },
    {
      "cell_type": "code",
      "execution_count": null,
      "id": "nervous-bridge",
      "metadata": {
        "id": "nervous-bridge",
        "outputId": "0fb040f9-db53-4f2f-ae17-8af12bd034cc"
      },
      "outputs": [
        {
          "data": {
            "text/plain": [
              "20"
            ]
          },
          "execution_count": 47,
          "metadata": {},
          "output_type": "execute_result"
        }
      ],
      "source": [
        "if light == 'green':\n",
        "    speed = 20\n",
        "else:\n",
        "    speed = 0\n",
        "    \n",
        "speed"
      ]
    },
    {
      "cell_type": "markdown",
      "id": "decreased-assembly",
      "metadata": {
        "id": "decreased-assembly"
      },
      "source": [
        "上面，`else` 的意思就是如果 `if light == 'green'` 成立，就执行 `if` 下面的代码，**否则**执行 `else` 下面的代码。\n",
        "\n",
        "⚠️ 注意：`if` 语句中，不要忘记在 `if` 和 `else` 这行末尾加上冒号 `:`，而且下面选择执行的代码必须缩进（也就是顶出来 4 个空格）。"
      ]
    },
    {
      "cell_type": "markdown",
      "id": "423ac547",
      "metadata": {
        "id": "423ac547"
      },
      "source": [
        "#### 小技巧\n",
        "很多时候我们会用这种`if`语句去判定一个新的变量的值，这个时候我们可以偷懒把`if`语句写在一行。多练之后就知道什么时候可以偷懒，不过出现bug了圈写出来总是没问题的！"
      ]
    },
    {
      "cell_type": "code",
      "execution_count": null,
      "id": "74f02cde",
      "metadata": {
        "id": "74f02cde",
        "outputId": "adfcba46-0603-4bc4-cc2d-8e2f0489b0c7"
      },
      "outputs": [
        {
          "data": {
            "text/plain": [
              "20"
            ]
          },
          "execution_count": 48,
          "metadata": {},
          "output_type": "execute_result"
        }
      ],
      "source": [
        "speed = 20 if light == 'green' else 0\n",
        "speed "
      ]
    },
    {
      "cell_type": "markdown",
      "id": "vulnerable-talent",
      "metadata": {
        "id": "vulnerable-talent"
      },
      "source": [
        "## 循环：`for`\n",
        "我们在上一节学习了列表 `list`。如果我们要循环过一遍这个列表，把所有元素打印出来，怎么办呢？"
      ]
    },
    {
      "cell_type": "code",
      "execution_count": null,
      "id": "royal-athens",
      "metadata": {
        "id": "royal-athens",
        "outputId": "fd2be2b3-10fb-4ac2-f0d6-88f674558a88"
      },
      "outputs": [
        {
          "name": "stdout",
          "output_type": "stream",
          "text": [
            "green\n",
            "yellow\n",
            "red\n"
          ]
        }
      ],
      "source": [
        "lights = ['green', 'yellow', 'red']\n",
        "\n",
        "for light in lights:\n",
        "    print(light)"
      ]
    },
    {
      "cell_type": "markdown",
      "id": "consolidated-cache",
      "metadata": {
        "id": "consolidated-cache"
      },
      "source": [
        "在上面的代码里面，`for light in lights` 的意思，是一个一个把 `lights` 里面的元素放到 `light` 变量里来执行下面的代码。因为列表的长度是 3，所以下面的代码 `print(light)` 就执行了 3 次，每一次打印一个元素。\n",
        "\n",
        "如果我们想要在循环的基础上做判断呢？比如说，对于每一个信号灯 `light`，我们都想知道车速是多少，怎么办呢？那我们可以直接进行俄罗斯套娃操作，把 `if` 套在 `for` 内部："
      ]
    },
    {
      "cell_type": "code",
      "execution_count": null,
      "id": "blocked-essay",
      "metadata": {
        "id": "blocked-essay",
        "outputId": "c9e62316-1fe5-4f6d-bbe7-8714e84aee5b"
      },
      "outputs": [
        {
          "name": "stdout",
          "output_type": "stream",
          "text": [
            "green 20\n",
            "yellow 0\n",
            "red 0\n"
          ]
        }
      ],
      "source": [
        "for light in lights:\n",
        "    if light == 'green':\n",
        "        speed = 20\n",
        "    else:\n",
        "        speed = 0\n",
        "    print(light, speed)"
      ]
    },
    {
      "cell_type": "markdown",
      "id": "varying-planner",
      "metadata": {
        "id": "varying-planner"
      },
      "source": [
        "这段代码里面，`for` 让下面的代码执行了 3 次，每次都进行了 `if` 判断：\n",
        "1. 第一次 `light` 是 `'green'`，所以车速 `20`\n",
        "2. 第二次 `light` 是 `'yellow'`，所以车速 `0`\n",
        "3. 第三次 `light` 是 `'red'`，所以车速 `0`\n",
        "\n",
        "⚠️ 注意：如果要套娃的话，记得让 `if` 完全包裹在 `for` 里面，也就是说在 `if`/`else` 这几行的基础上再加 4 个空格。"
      ]
    },
    {
      "cell_type": "markdown",
      "id": "42816f6e",
      "metadata": {
        "id": "42816f6e"
      },
      "source": [
        "如果我想在一个`if`语句判定多种不同情况，该怎么办呢？使用`elif` (else if)！"
      ]
    },
    {
      "cell_type": "code",
      "execution_count": null,
      "id": "d85ba809",
      "metadata": {
        "id": "d85ba809"
      },
      "outputs": [],
      "source": [
        "for light in lights:\n",
        "    if light == 'green':\n",
        "        speed = 20\n",
        "    elif light == 'yellow':\n",
        "        speed = 5\n",
        "    else:\n",
        "        speed = 0\n",
        "    print(light, speed)"
      ]
    },
    {
      "cell_type": "markdown",
      "id": "technological-question",
      "metadata": {
        "id": "technological-question"
      },
      "source": [
        "这时，我们先判定`light`是不是`green`。如果是`green`，结束判定。如果不是，再去判定是不是`yellow`，不是的话，再进入最后一个条件，无论是`red`，还是其他的字符，都会给`speed`赋予`0`的值。\n",
        "\n",
        "如果我们想同时获取这个`list`的值和他的`index`，可以使用`enumerate(list)`: "
      ]
    },
    {
      "cell_type": "code",
      "execution_count": null,
      "id": "919ea9e4",
      "metadata": {
        "id": "919ea9e4"
      },
      "outputs": [],
      "source": [
        "for i, light in enumerate(lights): \n",
        "    print(i, light)"
      ]
    },
    {
      "cell_type": "markdown",
      "id": "70a55ac1",
      "metadata": {
        "id": "70a55ac1"
      },
      "source": [
        "如果我们想要循环一个字典，同时获取他的`key`和`value`，应该怎么弄呢？"
      ]
    },
    {
      "cell_type": "code",
      "execution_count": null,
      "id": "ea1c597a",
      "metadata": {
        "id": "ea1c597a",
        "outputId": "f7a858c8-4781-44ea-c3db-0bab1f620f7f"
      },
      "outputs": [
        {
          "name": "stdout",
          "output_type": "stream",
          "text": [
            "TechX ['CV', 'NLP', 'AIML', 'Game Design', 'Computer Graphics', 'Math Modeling', 'IoT', 'Music Production', 'RL']\n",
            "BioX ['Molecular Neuroscience', 'Cognitive Neuroscience', 'Genetics', 'Evolution']\n",
            "DesignX ['Industrial Design', 'Architecture', 'Human-Computer Interaction']\n",
            "SocioX ['Computational Social Science', 'Game Theory', 'Urban Sociology']\n"
          ]
        }
      ],
      "source": [
        "for k, v in xacademy.items(): \n",
        "    print(k, v)"
      ]
    },
    {
      "cell_type": "markdown",
      "id": "eceb6f4d",
      "metadata": {
        "id": "eceb6f4d"
      },
      "source": [
        "那如果我们只知道循环长度 `n`，不知道循环的数据结构，怎么用 `for` 循环来 `n` 遍呢？答案就是用 `range(n)`。"
      ]
    },
    {
      "cell_type": "code",
      "execution_count": null,
      "id": "municipal-uruguay",
      "metadata": {
        "id": "municipal-uruguay",
        "outputId": "0dbe799f-4af3-4330-a3ce-923476d1d968"
      },
      "outputs": [
        {
          "name": "stdout",
          "output_type": "stream",
          "text": [
            "0\n",
            "1\n",
            "2\n"
          ]
        }
      ],
      "source": [
        "for i in range(3):\n",
        "    print(i)"
      ]
    },
    {
      "cell_type": "markdown",
      "id": "musical-arthur",
      "metadata": {
        "id": "musical-arthur"
      },
      "source": [
        "`range(n)` 就等价于一个长度为 `n` 的列表 `[0, 1, ..., n-1]`。所以 `for i in range(n)` 肯定会循环 `n` 次。\n",
        "\n",
        "当然，我们也可以用range去写出跟刚才循环`lights`的那个语句，同样效果，只是麻烦一些："
      ]
    },
    {
      "cell_type": "code",
      "execution_count": null,
      "id": "4564d211",
      "metadata": {
        "id": "4564d211"
      },
      "outputs": [],
      "source": [
        "for i in range(len(lights)):\n",
        "    if lights[i] == 'green':\n",
        "        speed = 20\n",
        "    elif lights[i] == 'yellow':\n",
        "        speed = 5\n",
        "    else:\n",
        "        speed = 0\n",
        "    print(lights[i], speed)"
      ]
    },
    {
      "cell_type": "markdown",
      "id": "e6d6b437",
      "metadata": {
        "id": "e6d6b437"
      },
      "source": [
        "`range()` 里面可以放入不止一个参数。\n",
        "如果只有一个参数，`range(stop)`就会产生一个长度为 `stop` 的列表 `[0, 1, ..., n-1]`。\n",
        "如果有两个参数，`range(start, stop)`就会产生一个长度为`stop-start`的列表 `[start, start+1, ..., stop-1]`。 \n",
        "如果有三个参数，`range(start, stop, step)`会从`start`开始，以`step`的等差每一次递进，一直到循环比`stop`更大，结束循环，比如说："
      ]
    },
    {
      "cell_type": "code",
      "execution_count": null,
      "id": "55cacf8b",
      "metadata": {
        "id": "55cacf8b",
        "outputId": "77ec74f2-32e5-4b39-97fb-a76ef59e70d9"
      },
      "outputs": [
        {
          "name": "stdout",
          "output_type": "stream",
          "text": [
            "3\n",
            "28\n",
            "53\n",
            "78\n"
          ]
        }
      ],
      "source": [
        "for i in range(3, 100, 25):\n",
        "    print(i)"
      ]
    },
    {
      "cell_type": "markdown",
      "id": "aecfd0a5",
      "metadata": {
        "id": "aecfd0a5"
      },
      "source": [
        "这样我们也可以倒计时，只要是`start`比`stop`要大，`step`是负数: "
      ]
    },
    {
      "cell_type": "code",
      "execution_count": null,
      "id": "4e99efae",
      "metadata": {
        "id": "4e99efae",
        "outputId": "29b866ee-0bbb-4598-dafc-845633745f1f"
      },
      "outputs": [
        {
          "name": "stdout",
          "output_type": "stream",
          "text": [
            "10\n",
            "9\n",
            "8\n",
            "7\n",
            "6\n",
            "5\n",
            "4\n",
            "3\n",
            "2\n",
            "1\n"
          ]
        }
      ],
      "source": [
        "for i in range(10,0, -1): \n",
        "    print(i)"
      ]
    },
    {
      "cell_type": "markdown",
      "id": "amino-france",
      "metadata": {
        "id": "amino-france"
      },
      "source": [
        "## 循环：`while`"
      ]
    },
    {
      "cell_type": "markdown",
      "id": "mediterranean-rescue",
      "metadata": {
        "id": "mediterranean-rescue"
      },
      "source": [
        "除了 `for` 循环，还有一种循环叫 `while`。`while` 的意思是**当**，也就是当某个条件成立的时候就一直循环执行。"
      ]
    },
    {
      "cell_type": "code",
      "execution_count": null,
      "id": "manual-terror",
      "metadata": {
        "id": "manual-terror",
        "outputId": "6603b8b5-44ce-4858-9bee-b857835b8a72"
      },
      "outputs": [
        {
          "name": "stdout",
          "output_type": "stream",
          "text": [
            "60\n"
          ]
        }
      ],
      "source": [
        "speed = 0\n",
        "\n",
        "while speed < 60:\n",
        "    speed += 20\n",
        "    \n",
        "print(speed)"
      ]
    },
    {
      "cell_type": "markdown",
      "id": "official-renaissance",
      "metadata": {
        "id": "official-renaissance"
      },
      "source": [
        "在上面的代码中，当 `speed < 60` 的时候，下面的代码 `speed += 20` 就一直被循环执行。于是速度就加到 60，然后就不继续加速了。是不是非常直观呢？"
      ]
    },
    {
      "cell_type": "markdown",
      "id": "d675ae94",
      "metadata": {
        "id": "d675ae94"
      },
      "source": [
        "### 一行`for` 循环\n",
        "\n",
        "经常我们可以用一行就能写完的`for`循环来定义新的列表或者字典，也可以结合`if`语句使用，比如说这样："
      ]
    },
    {
      "cell_type": "code",
      "execution_count": null,
      "id": "8f64a8d2",
      "metadata": {
        "id": "8f64a8d2",
        "outputId": "4fc8e1af-d760-4ee1-e380-29edc2312ba1"
      },
      "outputs": [
        {
          "name": "stdout",
          "output_type": "stream",
          "text": [
            "[11, 12, 13]\n",
            "[6, 7]\n",
            "{'d', 'e', 'f'}\n",
            "{0: 0, 1: 1, 2: 4, 3: 9, 4: 16}\n"
          ]
        }
      ],
      "source": [
        "print([i+10 for i in [1, 2, 3]])      # => [11, 12, 13]\n",
        "print([x for x in [3, 4, 5, 6, 7] if x > 5])  # => [6, 7]\n",
        "\n",
        "print({x for x in 'abcddeef' if x not in 'abc'})\n",
        "print({x: x**2 for x in range(5)})"
      ]
    },
    {
      "cell_type": "markdown",
      "id": "9baa23d5",
      "metadata": {
        "id": "9baa23d5"
      },
      "source": [
        "## 停止\n",
        "\n",
        "### `break`\n",
        "跳出并结束当前整个循环，执行循环后的语句\n",
        "\n",
        "### `continue` \n",
        "结束档次循环，继续执行后续次数循环\n",
        "\n",
        "### `pass`\n",
        "该语句什么也不做，是为了保持程序结构的完整性。常用在语法上需要一条语句但是不需要任何操作的情况。"
      ]
    },
    {
      "cell_type": "code",
      "execution_count": null,
      "id": "724bcdf3",
      "metadata": {
        "colab": {
          "base_uri": "https://localhost:8080/"
        },
        "id": "724bcdf3",
        "outputId": "062ea922-f277-4645-fb09-b95504ffeeeb"
      },
      "outputs": [
        {
          "output_type": "stream",
          "name": "stdout",
          "text": [
            "1 2 4 5 7 \n"
          ]
        }
      ],
      "source": [
        "for n in range(200):\n",
        "    if (n % 3 == 0):\n",
        "        continue # skips rest of this pass\n",
        "    elif (n == 8):\n",
        "        break # skips rest of entire loop\n",
        "    else:\n",
        "        pass # does nothing! pass is a placeholder, not needed here\n",
        "    print(n, end=\" \")\n",
        "print()"
      ]
    },
    {
      "cell_type": "markdown",
      "id": "0f1d1e4f",
      "metadata": {
        "id": "0f1d1e4f"
      },
      "source": [
        "## 异常\n",
        "\n",
        "### `try`和`except`处理异常\n",
        "\n",
        "有时候我们写程序的时候，会出现一些错误或异常，导致程序终止。使用`try…except`，这样程序就不会因为异常而中断。把可能发生错误的语句放在try模块里，用`except`来处理异常。`except`可以处理一个专门的异常，也可以处理一组圆括号中的异常，如果`except`后没有指定异常，则默认处理所有的异常。每一个`try`，都必须至少有一个`except`。"
      ]
    },
    {
      "cell_type": "code",
      "execution_count": null,
      "id": "8d059664",
      "metadata": {
        "colab": {
          "base_uri": "https://localhost:8080/"
        },
        "id": "8d059664",
        "outputId": "5cac7ef0-569d-423b-c44b-339862cc8d45"
      },
      "outputs": [
        {
          "output_type": "stream",
          "name": "stdout",
          "text": [
            "division by zero\n"
          ]
        }
      ],
      "source": [
        "a = 10 \n",
        "b = 0 \n",
        "try: \n",
        "    c = a / b \n",
        "    print(c)\n",
        "except ZeroDivisionError as e: # 这里我们保证不会因为被0除而暂停整个程序\n",
        "    print(e)"
      ]
    },
    {
      "cell_type": "markdown",
      "id": "873086c4",
      "metadata": {
        "id": "873086c4"
      },
      "source": [
        "如果你不知道是什么具体的报错，也可以直接写`except Exception as e`，这样可以让系统告诉你是什么错误，并且保证程序可以继续运行下去"
      ]
    },
    {
      "cell_type": "code",
      "execution_count": null,
      "id": "e984ee2c",
      "metadata": {
        "id": "e984ee2c",
        "outputId": "36f24f3a-e9b7-4859-db8c-d28f9bdb31be"
      },
      "outputs": [
        {
          "name": "stdout",
          "output_type": "stream",
          "text": [
            "division by zero\n"
          ]
        }
      ],
      "source": [
        "try: \n",
        "    c = a / b \n",
        "    print(c)\n",
        "except Exception as e: \n",
        "    print(e)"
      ]
    },
    {
      "cell_type": "markdown",
      "id": "c29df77a",
      "metadata": {
        "id": "c29df77a"
      },
      "source": [
        "### `raise`和`assert`引发异常\n",
        "\n",
        "有的时候，你需要故意引发异常，因为有时不符合这个条件就会使得整个后面的程序出现错误，比如说这里我们需要保证n是一个整数，就可以用`raise`引发一个`ValueError`:"
      ]
    },
    {
      "cell_type": "code",
      "execution_count": null,
      "id": "b58b0368",
      "metadata": {
        "id": "b58b0368",
        "outputId": "0ffe10ad-9b1b-4ac8-b91a-d27057126c96"
      },
      "outputs": [
        {
          "ename": "ValueError",
          "evalue": "",
          "output_type": "error",
          "traceback": [
            "\u001b[0;31m---------------------------------------------------------------------------\u001b[0m",
            "\u001b[0;31mValueError\u001b[0m                                Traceback (most recent call last)",
            "Input \u001b[0;32mIn [11]\u001b[0m, in \u001b[0;36m<cell line: 2>\u001b[0;34m()\u001b[0m\n\u001b[1;32m      1\u001b[0m n \u001b[38;5;241m=\u001b[39m \u001b[38;5;241m3.1415926\u001b[39m\n\u001b[1;32m      2\u001b[0m \u001b[38;5;28;01mif\u001b[39;00m \u001b[38;5;129;01mnot\u001b[39;00m \u001b[38;5;28misinstance\u001b[39m(n, \u001b[38;5;28mint\u001b[39m): \n\u001b[0;32m----> 3\u001b[0m     \u001b[38;5;28;01mraise\u001b[39;00m \u001b[38;5;167;01mValueError\u001b[39;00m\n",
            "\u001b[0;31mValueError\u001b[0m: "
          ]
        }
      ],
      "source": [
        "n = 3.1415926\n",
        "if not isinstance(n, int): \n",
        "    raise ValueError"
      ]
    },
    {
      "cell_type": "markdown",
      "id": "38777577",
      "metadata": {
        "id": "38777577"
      },
      "source": [
        "同样的效果，更简单的语法是用`assert`,注意`assert`判定为`False`才会引起异常，`True`则通过，这跟`raise`是反过来的"
      ]
    },
    {
      "cell_type": "code",
      "execution_count": null,
      "id": "755c6fd7",
      "metadata": {
        "id": "755c6fd7",
        "outputId": "bd2dd253-3e38-462c-c02c-9a9ffa273e30"
      },
      "outputs": [
        {
          "ename": "AssertionError",
          "evalue": "",
          "output_type": "error",
          "traceback": [
            "\u001b[0;31m---------------------------------------------------------------------------\u001b[0m",
            "\u001b[0;31mAssertionError\u001b[0m                            Traceback (most recent call last)",
            "Input \u001b[0;32mIn [12]\u001b[0m, in \u001b[0;36m<cell line: 1>\u001b[0;34m()\u001b[0m\n\u001b[0;32m----> 1\u001b[0m \u001b[38;5;28;01massert\u001b[39;00m(\u001b[38;5;28misinstance\u001b[39m(n, \u001b[38;5;28mint\u001b[39m))\n",
            "\u001b[0;31mAssertionError\u001b[0m: "
          ]
        }
      ],
      "source": [
        "assert(isinstance(n, int))"
      ]
    },
    {
      "cell_type": "markdown",
      "id": "f1fc1ca6",
      "metadata": {
        "id": "f1fc1ca6"
      },
      "source": [
        "也可以用`assert(condition), \"blabla\"`来显示报错信息"
      ]
    },
    {
      "cell_type": "code",
      "execution_count": null,
      "id": "94bdcc78",
      "metadata": {
        "id": "94bdcc78",
        "outputId": "dd21a013-4b12-48ea-c0da-77e3bf9a7db8"
      },
      "outputs": [
        {
          "ename": "AssertionError",
          "evalue": "3.1415926 is not an integer",
          "output_type": "error",
          "traceback": [
            "\u001b[0;31m---------------------------------------------------------------------------\u001b[0m",
            "\u001b[0;31mAssertionError\u001b[0m                            Traceback (most recent call last)",
            "Input \u001b[0;32mIn [13]\u001b[0m, in \u001b[0;36m<cell line: 1>\u001b[0;34m()\u001b[0m\n\u001b[0;32m----> 1\u001b[0m \u001b[38;5;28;01massert\u001b[39;00m(\u001b[38;5;28misinstance\u001b[39m(n, \u001b[38;5;28mint\u001b[39m)), \u001b[38;5;124mf\u001b[39m\u001b[38;5;124m\"\u001b[39m\u001b[38;5;132;01m{\u001b[39;00mn\u001b[38;5;132;01m}\u001b[39;00m\u001b[38;5;124m is not an integer\u001b[39m\u001b[38;5;124m\"\u001b[39m\n",
            "\u001b[0;31mAssertionError\u001b[0m: 3.1415926 is not an integer"
          ]
        }
      ],
      "source": [
        "assert(isinstance(n, int)), f\"{n} is not an integer\""
      ]
    },
    {
      "cell_type": "markdown",
      "id": "seven-silver",
      "metadata": {
        "id": "seven-silver"
      },
      "source": [
        "## 小结\n",
        "Python 中的判断和循环可以让它做出智能的选择：\n",
        "* `if condition:` 当 `condition` 成立时执行\n",
        "* `elif condition` 当`if condition`不成立时再次判定执行\n",
        "* `else:` 否则执行\n",
        "* `for element in list:` 取 `list` 里面各个元素 `element` 一个一个执行\n",
        "* `for i in range(n):` 循环 `n` 次\n",
        "* `while condition:` 当 `condition` 成立时一直执行\n",
        "* `try...except`处理异常\n",
        "* `raise`和`assert`引发异常"
      ]
    },
    {
      "cell_type": "markdown",
      "id": "clinical-implementation",
      "metadata": {
        "id": "clinical-implementation"
      },
      "source": [
        "# 输入输出\n",
        "\n",
        "\n",
        "## 终端输入\n",
        "输入只需要一个命令 `input()`。在文本框输入文字并按下 <kbd>Enter</kbd> 后，它会产生一个值，这个值就可以用 `=` 来传递给一个变量："
      ]
    },
    {
      "cell_type": "code",
      "execution_count": null,
      "id": "protective-cheese",
      "metadata": {
        "colab": {
          "base_uri": "https://localhost:8080/"
        },
        "id": "protective-cheese",
        "outputId": "95e7310c-5d83-454f-a07d-791269083659"
      },
      "outputs": [
        {
          "output_type": "stream",
          "name": "stdout",
          "text": [
            "Input text: hello\n",
            "hello !\n"
          ]
        }
      ],
      "source": [
        "print(input('Input text: '), '!')"
      ]
    },
    {
      "cell_type": "markdown",
      "id": "858b2e87",
      "metadata": {
        "id": "858b2e87"
      },
      "source": [
        "## 输入至文本"
      ]
    },
    {
      "cell_type": "code",
      "execution_count": null,
      "id": "248d8e4e",
      "metadata": {
        "id": "248d8e4e"
      },
      "outputs": [],
      "source": [
        "contents = {\"aa\": 12, \"bb\": 21}\n",
        "with open(\"myfile1.txt\", \"w\") as file:\n",
        "    file.write(str(contents)) "
      ]
    },
    {
      "cell_type": "markdown",
      "id": "99a7d36a",
      "metadata": {
        "id": "99a7d36a"
      },
      "source": [
        "这里`with`是一个常用语法，是用来管理和清理资源的，这样在with语句结束之后使用完了这个文件流就会自动清理这个资源，不懂具体用途也没关系，他和这样的语法是相通的："
      ]
    },
    {
      "cell_type": "code",
      "execution_count": null,
      "id": "d347de27",
      "metadata": {
        "id": "d347de27"
      },
      "outputs": [],
      "source": [
        "file = open('myfile1.txt','w')\n",
        "file.write(str(contents))\n",
        "file.close()"
      ]
    },
    {
      "cell_type": "markdown",
      "id": "124b36e4",
      "metadata": {
        "id": "124b36e4"
      },
      "source": [
        "这里在`open(file,'w')`这个语法当中，`file`指的是这个文件在电脑上的位置所在，而第二个参数判定这个文件流是输出还是输入，和一些其他设置。这里`w`是write的缩写，所以是输入。"
      ]
    },
    {
      "cell_type": "markdown",
      "id": "e371aaee",
      "metadata": {
        "id": "e371aaee"
      },
      "source": [
        "## 从文本输出"
      ]
    },
    {
      "cell_type": "markdown",
      "id": "48424c30",
      "metadata": {
        "id": "48424c30"
      },
      "source": [
        "这里要用`open(file, 'r')`这样一个语法："
      ]
    },
    {
      "cell_type": "code",
      "execution_count": null,
      "id": "3aaea4c6",
      "metadata": {
        "colab": {
          "base_uri": "https://localhost:8080/",
          "height": 201
        },
        "id": "3aaea4c6",
        "outputId": "ae766ae3-0130-46d5-ddd6-889a46cb208e"
      },
      "outputs": [
        {
          "output_type": "error",
          "ename": "FileNotFoundError",
          "evalue": "ignored",
          "traceback": [
            "\u001b[0;31m---------------------------------------------------------------------------\u001b[0m",
            "\u001b[0;31mFileNotFoundError\u001b[0m                         Traceback (most recent call last)",
            "\u001b[0;32m<ipython-input-6-f4691dd502ed>\u001b[0m in \u001b[0;36m<module>\u001b[0;34m()\u001b[0m\n\u001b[0;32m----> 1\u001b[0;31m \u001b[0;32mwith\u001b[0m \u001b[0mopen\u001b[0m\u001b[0;34m(\u001b[0m\u001b[0;34m'myfile1.txt'\u001b[0m\u001b[0;34m,\u001b[0m \u001b[0;34m\"r+\"\u001b[0m\u001b[0;34m)\u001b[0m \u001b[0;32mas\u001b[0m \u001b[0mfile\u001b[0m\u001b[0;34m:\u001b[0m\u001b[0;34m\u001b[0m\u001b[0;34m\u001b[0m\u001b[0m\n\u001b[0m\u001b[1;32m      2\u001b[0m     \u001b[0mcontents\u001b[0m \u001b[0;34m=\u001b[0m \u001b[0mfile\u001b[0m\u001b[0;34m.\u001b[0m\u001b[0mread\u001b[0m\u001b[0;34m(\u001b[0m\u001b[0;34m)\u001b[0m\u001b[0;34m\u001b[0m\u001b[0;34m\u001b[0m\u001b[0m\n\u001b[1;32m      3\u001b[0m \u001b[0mprint\u001b[0m\u001b[0;34m(\u001b[0m\u001b[0mcontents\u001b[0m\u001b[0;34m)\u001b[0m\u001b[0;34m\u001b[0m\u001b[0;34m\u001b[0m\u001b[0m\n",
            "\u001b[0;31mFileNotFoundError\u001b[0m: [Errno 2] No such file or directory: 'myfile1.txt'"
          ]
        }
      ],
      "source": [
        "with open('myfile1.txt', \"r+\") as file:\n",
        "    contents = file.read()          \n",
        "print(contents)"
      ]
    },
    {
      "cell_type": "markdown",
      "id": "60df3be9",
      "metadata": {
        "id": "60df3be9"
      },
      "source": [
        "这里要注意文件的路径，如果是相对路径，就是相对于自己的目标文件的位置，要弄清楚文件是不是和Python文件运行的文件夹一起。绝对路径，是指文件在硬盘上真正存在的路径，是无可替代的。`.`代表目前所在的目录。`..`代表上一层目录。`/`代表根目录。"
      ]
    },
    {
      "cell_type": "markdown",
      "id": "08e54aa7",
      "metadata": {
        "id": "08e54aa7"
      },
      "source": [
        "# 函数`function`\n",
        "\n",
        "创建一个新的函数用`def`关键词，下面选择执行的代码必须缩进（也就是顶出来 4 个空格），而最后的一行一定要写上`return`。比如说：\n"
      ]
    },
    {
      "cell_type": "code",
      "execution_count": null,
      "id": "d602f5e4",
      "metadata": {
        "id": "d602f5e4",
        "outputId": "4e1b2dda-15ad-40d4-d6f3-3009c1ab1ee9"
      },
      "outputs": [
        {
          "name": "stdout",
          "output_type": "stream",
          "text": [
            "x is 3, y is 6, x+y =9\n"
          ]
        },
        {
          "data": {
            "text/plain": [
              "9"
            ]
          },
          "execution_count": 16,
          "metadata": {},
          "output_type": "execute_result"
        }
      ],
      "source": [
        "def add(x, y):\n",
        "    print(f\"x is {x}, y is {y}, x+y ={x+y}\")\n",
        "    return x + y \n",
        "\n",
        "add(3,6)"
      ]
    },
    {
      "cell_type": "markdown",
      "id": "25fd3e75",
      "metadata": {
        "id": "25fd3e75"
      },
      "source": [
        "一个function也可以不返回值，这种情况大多是一整块代码需要反复使用，或者返回很多值。比如说："
      ]
    },
    {
      "cell_type": "code",
      "execution_count": null,
      "id": "bcfc6081",
      "metadata": {
        "id": "bcfc6081",
        "outputId": "3cc60b2d-b05d-4c84-cdc0-594995e26bba"
      },
      "outputs": [
        {
          "data": {
            "text/plain": [
              "('NLP', 'is great')"
            ]
          },
          "execution_count": 17,
          "metadata": {},
          "output_type": "execute_result"
        }
      ],
      "source": [
        "def swap(x, y):\n",
        "    return y, x \n",
        "\n",
        "swap('is great','NLP')"
      ]
    },
    {
      "cell_type": "markdown",
      "id": "67908673",
      "metadata": {
        "id": "67908673"
      },
      "source": [
        "## Scope （作用区） \n",
        "\n",
        "作用域指的是变量生效的区域，在Python中一共有两种作用域\n",
        "\n",
        "* 全局作用域\n",
        "全局作用域在程序执行时创建，在程序执行结束时销毁\n",
        "所有函数以外的区域都是全局作用域\n",
        "在全局作用域中定义的变量，都属于全局变量，全局变量可以在程序的任意位置被访问\n",
        "\n",
        "* 函数作用域\n",
        "函数作用域在函数调用时创建，在调用结束时销毁\n",
        "函数每调用一次就会产生一个新的函数作用域\n",
        "在函数作用域中定义的变量，都是局部变量，它只能在函数内部被访问\n",
        "\n",
        "下面来点例子： "
      ]
    },
    {
      "cell_type": "code",
      "execution_count": null,
      "id": "23de8e7b",
      "metadata": {
        "id": "23de8e7b",
        "outputId": "27d99268-c5b8-49fa-fe98-ab291888a460"
      },
      "outputs": [
        {
          "name": "stdout",
          "output_type": "stream",
          "text": [
            "7\n"
          ]
        }
      ],
      "source": [
        "x = 5\n",
        "\n",
        "def set_x(num):\n",
        "    # 这里的x是函数内的，和全局的不一样\n",
        "    x = num    # => 7\n",
        "    print(x)   # => 7\n",
        "    \n",
        "set_x(7)\n",
        "\n",
        "def set_global_x(num):\n",
        "    global x #现在这样函数内x和全局同步了， 可以更改全局函数了\n",
        "    print(x)   # => 5\n",
        "    x = num    #  6 \n",
        "    print(x)   # => 6"
      ]
    },
    {
      "cell_type": "markdown",
      "id": "7f70283a",
      "metadata": {
        "id": "7f70283a"
      },
      "source": [
        "# 类`class`\n",
        "\n",
        "我们需要用`class`关键词来定义一个类。一个类有很多个属性。它被这个类的所有实例所共享，比如说下面的`species`。"
      ]
    },
    {
      "cell_type": "code",
      "execution_count": null,
      "id": "fc5c9e69",
      "metadata": {
        "id": "fc5c9e69"
      },
      "outputs": [],
      "source": [
        "class Human:\n",
        "    \n",
        "    species = \"H. sapiens\"\n",
        "    \n",
        "    # 基本的初始化函数，当叫出这个类的一个实例的时候，这个会被调用。\n",
        "    def __init__(self, name):\n",
        "        # 将参数分配给实例的名称属性\n",
        "        self.name = name\n",
        "        #  初始化属性\n",
        "        self._age = 0\n",
        "\n",
        "    # 实例方法，第一个参数总是self，就是这个实例对象\n",
        "    def say(self, msg):\n",
        "        return f\"{self.name}: {msg}\"\n",
        "    \n",
        "    #注意，如果要调用 这个类里面的属性的时候，需要写self.属性名称\n",
        "\n",
        "    # 类方法，被所有此类的实例共用。第一个参数是这个类对象。\n",
        "    @classmethod\n",
        "    def get_species(cls):\n",
        "        return cls.species\n",
        "    \n",
        "    # 静态方法。调用时没有实例或类的绑定。\n",
        "    @staticmethod\n",
        "    def grunt():\n",
        "        return \"*grunt*\""
      ]
    },
    {
      "cell_type": "markdown",
      "id": "6f00a487",
      "metadata": {
        "id": "6f00a487"
      },
      "source": [
        "写好了一个`class`，我们可以来调用他啦！"
      ]
    },
    {
      "cell_type": "code",
      "execution_count": null,
      "id": "45d0886f",
      "metadata": {
        "id": "45d0886f"
      },
      "outputs": [],
      "source": [
        "# 构造一个实例\n",
        "i = Human(name=\"Ian\")\n",
        "print(i.say(\"hi\"))     # 印出 \"Ian: hi\"\n",
        "\n",
        "j = Human(\"Joel\")\n",
        "print(j.say(\"hello\"))  # 印出 \"Joel: hello\"\n",
        "\n",
        "# 调用一个类方法\n",
        "i.get_species()   # => \"H. sapiens\"\n",
        "\n",
        "# 改一个共用的类属性\n",
        "Human.species = \"H. neanderthalensis\"\n",
        "i.get_species()   # => \"H. neanderthalensis\"\n",
        "j.get_species()   # => \"H. neanderthalensis\"\n",
        "\n",
        "# 调用静态方法\n",
        "Human.grunt()   # => \"*grunt*\""
      ]
    },
    {
      "cell_type": "markdown",
      "id": "e9875fdf",
      "metadata": {
        "id": "e9875fdf"
      },
      "source": [
        "# 基础算法 （我觉得这一块不一定要）\n",
        "\n",
        "## 排序\n",
        "\n",
        "### 冒泡排序\n",
        "\n",
        "每一趟只能确定将一个数归位。即第一趟只能确定将末位上的数归位，第二趟只能将倒数第 2 位上的数归位，依次类推下去。如果有 n 个数进行排序，只需将 n-1 个数归位，也就是要进行 n-1 趟操作。\n",
        "\n",
        "而 “每一趟 ” 都需要从第一位开始进行相邻的两个数的比较，将较大的数放后面，比较完毕之后向后挪一位继续比较下面两个相邻的两个数大小关系，重复此步骤，直到最后一个还没归位的数。\n",
        "\n",
        "Big O 是O(n^2) "
      ]
    },
    {
      "cell_type": "code",
      "execution_count": null,
      "id": "cae479f1",
      "metadata": {
        "id": "cae479f1"
      },
      "outputs": [],
      "source": [
        "def bubble_sort(a): \n",
        "    for i in range(0, len(a)): \n",
        "        for j in range(0,len(a)-i-1): \n",
        "            if a[j]>a[j+1]:\n",
        "                temp = a[j+1]\n",
        "                a[j+1] = a[j] \n",
        "                a[j] = temp\n",
        "                \n",
        "    print(a)"
      ]
    },
    {
      "cell_type": "markdown",
      "id": "05af3de0",
      "metadata": {
        "id": "05af3de0"
      },
      "source": [
        "### 选择排序"
      ]
    },
    {
      "cell_type": "code",
      "execution_count": null,
      "id": "3a63e68f",
      "metadata": {
        "id": "3a63e68f"
      },
      "outputs": [],
      "source": [
        "def selection_sort(a):\n",
        "    for i in range(0,len(a)):\n",
        "        k = i \n",
        "        temp = a[i] \n",
        "        for j in range(i,len(a)):\n",
        "            if a[j] < temp:\n",
        "                temp = a[j] \n",
        "                k = j\n",
        "        a[k] = a[i] \n",
        "        a[i] = temp\n",
        "    print(a)"
      ]
    },
    {
      "cell_type": "markdown",
      "id": "f6ac0a19",
      "metadata": {
        "id": "f6ac0a19"
      },
      "source": [
        "### 快速排序\n",
        "\n",
        "https://blog.csdn.net/qq_52595134/article/details/118943109"
      ]
    },
    {
      "cell_type": "code",
      "execution_count": null,
      "id": "4acb9b1a",
      "metadata": {
        "id": "4acb9b1a"
      },
      "outputs": [],
      "source": [
        "def partition(l, r, nums):\n",
        "    pivot, ptr = nums[r], l\n",
        "    for i in range(l, r):\n",
        "        if nums[i] <= pivot:\n",
        "            nums[i], nums[ptr] = nums[ptr], nums[i]\n",
        "            ptr += 1\n",
        "    nums[ptr], nums[r] = nums[r], nums[ptr]\n",
        "    return ptr\n",
        " \n",
        "def quicksort(l, r, nums):\n",
        "    if len(nums) == 1:  \n",
        "        return nums\n",
        "    if l < r:\n",
        "        pi = partition(l, r, nums)\n",
        "        quicksort(l, pi-1, nums)  \n",
        "        quicksort(pi+1, r, nums)  \n",
        "    return nums"
      ]
    },
    {
      "cell_type": "markdown",
      "id": "869adfb4",
      "metadata": {
        "id": "869adfb4"
      },
      "source": [
        "## 搜索"
      ]
    },
    {
      "cell_type": "markdown",
      "id": "d3fb72ea",
      "metadata": {
        "id": "d3fb72ea"
      },
      "source": [
        "### DFS 深度优先\n",
        "\n",
        "https://blog.csdn.net/g11d111/article/details/75645970"
      ]
    },
    {
      "cell_type": "code",
      "execution_count": null,
      "id": "ea0e5ddd",
      "metadata": {
        "id": "ea0e5ddd"
      },
      "outputs": [],
      "source": [
        "graph = {\n",
        "  '5' : ['3','7'],\n",
        "  '3' : ['2', '4'],\n",
        "  '7' : ['8'],\n",
        "  '2' : [],\n",
        "  '4' : ['8'],\n",
        "  '8' : []\n",
        "}\n",
        "\n",
        "visited = set() # Set to keep track of visited nodes of graph.\n",
        "\n",
        "def dfs(visited, graph, node):  #function for dfs \n",
        "    if node not in visited:\n",
        "        print (node)\n",
        "        visited.add(node)\n",
        "        for neighbour in graph[node]:\n",
        "            dfs(visited, graph, neighbour)"
      ]
    },
    {
      "cell_type": "markdown",
      "id": "67fde852",
      "metadata": {
        "id": "67fde852"
      },
      "source": [
        "### BFS 广度优先\n",
        "\n",
        "https://blog.csdn.net/weixin_44489823/article/details/88405056"
      ]
    },
    {
      "cell_type": "code",
      "execution_count": null,
      "id": "5138a396",
      "metadata": {
        "id": "5138a396"
      },
      "outputs": [],
      "source": [
        "graph = {\n",
        "  'A' : ['B','C'],\n",
        "  'B' : ['D', 'E'],\n",
        "  'C' : ['F'],\n",
        "  'D' : [],\n",
        "  'E' : ['F'],\n",
        "  'F' : []\n",
        "}\n",
        "\n",
        "visited = [] # List to keep track of visited nodes.\n",
        "queue = []     #Initialize a queue\n",
        "\n",
        "def bfs(visited, graph, node):\n",
        "    visited.append(node)\n",
        "    queue.append(node)\n",
        "    while queue:\n",
        "        s = queue.pop(0) \n",
        "        print (s, end = \" \") \n",
        "    for neighbour in graph[s]:\n",
        "        if neighbour not in visited:\n",
        "            visited.append(neighbour)\n",
        "            queue.append(neighbour)\n",
        "\n",
        "bfs(visited, graph, 'A')"
      ]
    }
  ],
  "metadata": {
    "kernelspec": {
      "display_name": "Python 3 (ipykernel)",
      "language": "python",
      "name": "python3"
    },
    "language_info": {
      "codemirror_mode": {
        "name": "ipython",
        "version": 3
      },
      "file_extension": ".py",
      "mimetype": "text/x-python",
      "name": "python",
      "nbconvert_exporter": "python",
      "pygments_lexer": "ipython3",
      "version": "3.9.12"
    },
    "colab": {
      "name": "2022_Python_Intro by Carl.ipynb",
      "provenance": []
    }
  },
  "nbformat": 4,
  "nbformat_minor": 5
}
